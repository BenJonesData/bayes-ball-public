{
 "cells": [
  {
   "cell_type": "markdown",
   "metadata": {},
   "source": [
    "# Bayesian Neural Network Example Usage\n",
    "\n",
    "This notebook contains code demonstrating the use of the Bayesian neural network code. First we [prepare the data](#data-prep) for use in the model, we then [define the model](#defining-the-model) using the our model framework. Then we [train the model](#model-training) using the `fit` method. Finally we use the model to [conduct inference](#inference) on a validation set before examining an [example output](#example-output).\n",
    "\n",
    "For demonstration purposes, we use [football-data.co.uk](https:football-data.co.uk) to create a dataset of matches from the second half of seasons and include stats from the first half of the same season for the participating teams. This gives us an adequate feature set to work with in order to demonstrate how to construct Bayesian neural networks from our code, however it should be noted that the performance of this model is by no means flawless.\n",
    "\n",
    "Note that in this notebook we import each function as they are required for demonstration purposes. Similarly we define hypoerparameters in block capitals as they are required."
   ]
  },
  {
   "cell_type": "code",
   "execution_count": 1,
   "metadata": {},
   "outputs": [],
   "source": [
    "import pandas as pd\n",
    "import sys\n",
    "import os"
   ]
  },
  {
   "cell_type": "code",
   "execution_count": 2,
   "metadata": {},
   "outputs": [],
   "source": [
    "sys.path.append(os.path.abspath(os.path.join(\"../\")))"
   ]
  },
  {
   "cell_type": "markdown",
   "metadata": {},
   "source": [
    "## Data Prep"
   ]
  },
  {
   "cell_type": "code",
   "execution_count": 3,
   "metadata": {},
   "outputs": [],
   "source": [
    "from src.preprocess import create_dataframe\n",
    "from src.bayesian_nn import extract_features_and_target, make_dataset"
   ]
  },
  {
   "cell_type": "code",
   "execution_count": 4,
   "metadata": {},
   "outputs": [
    {
     "name": "stderr",
     "output_type": "stream",
     "text": [
      "\u001b[32m2025-02-24 19:35:21.819\u001b[0m | \u001b[1mINFO    \u001b[0m | \u001b[36msrc.preprocess\u001b[0m:\u001b[36mcreate_dataframe\u001b[0m:\u001b[36m12\u001b[0m - \u001b[1mStarting dataset creation\u001b[0m\n",
      "\u001b[32m2025-02-24 19:35:21.822\u001b[0m | \u001b[1mINFO    \u001b[0m | \u001b[36msrc.preprocess\u001b[0m:\u001b[36mcreate_dataframe\u001b[0m:\u001b[36m112\u001b[0m - \u001b[1mHome and away dataframes created succesfully\u001b[0m\n",
      "\u001b[32m2025-02-24 19:35:21.827\u001b[0m | \u001b[1mINFO    \u001b[0m | \u001b[36msrc.preprocess\u001b[0m:\u001b[36mcreate_dataframe\u001b[0m:\u001b[36m118\u001b[0m - \u001b[1mHome and away dataframes succesfully combined and grouped\u001b[0m\n",
      "\u001b[32m2025-02-24 19:35:21.835\u001b[0m | \u001b[1mINFO    \u001b[0m | \u001b[36msrc.preprocess\u001b[0m:\u001b[36mcreate_dataframe\u001b[0m:\u001b[36m150\u001b[0m - \u001b[1mTeam stats succesfully merged onto game data\u001b[0m\n",
      "\u001b[32m2025-02-24 19:35:21.837\u001b[0m | \u001b[1mINFO    \u001b[0m | \u001b[36msrc.preprocess\u001b[0m:\u001b[36mcreate_dataframe\u001b[0m:\u001b[36m155\u001b[0m - \u001b[1mDuplicate columns successfully dropped\u001b[0m\n",
      "\u001b[32m2025-02-24 19:35:21.841\u001b[0m | \u001b[1mINFO    \u001b[0m | \u001b[36msrc.preprocess\u001b[0m:\u001b[36mcreate_dataframe\u001b[0m:\u001b[36m169\u001b[0m - \u001b[1mDataset creation complete\u001b[0m\n",
      "\u001b[32m2025-02-24 19:35:21.842\u001b[0m | \u001b[1mINFO    \u001b[0m | \u001b[36msrc.preprocess\u001b[0m:\u001b[36mcreate_dataframe\u001b[0m:\u001b[36m170\u001b[0m - \u001b[1mDataset length: 12783\u001b[0m\n"
     ]
    }
   ],
   "source": [
    "raw_data = pd.read_csv(\"../data/raw_games.csv\")\n",
    "data = create_dataframe(raw_data)"
   ]
  },
  {
   "cell_type": "code",
   "execution_count": 5,
   "metadata": {},
   "outputs": [],
   "source": [
    "test_seasons = [\"23_24\", \"24_25\"]\n",
    "val_seasons = [\"21_22\", \"22_23\"]\n",
    "\n",
    "train_data = data.loc[\n",
    "    ~data[\"season\"].isin(test_seasons + val_seasons)\n",
    "].reset_index()\n",
    "val_data = data.loc[data[\"season\"].isin(val_seasons)].reset_index()\n",
    "\n",
    "train = train_data.drop(\n",
    "    columns=[\n",
    "        \"season\",\n",
    "        \"div\",\n",
    "        \"date\",\n",
    "        \"h_team\",\n",
    "        \"a_team\",\n",
    "        \"b365h\",\n",
    "        \"b365d\",\n",
    "        \"b365a\",\n",
    "        \"ftr\",\n",
    "        \"bookies_prob\",\n",
    "    ]\n",
    ")\n",
    "val = val_data.drop(\n",
    "    columns=[\n",
    "        \"season\",\n",
    "        \"div\",\n",
    "        \"date\",\n",
    "        \"h_team\",\n",
    "        \"a_team\",\n",
    "        \"b365h\",\n",
    "        \"b365d\",\n",
    "        \"b365a\",\n",
    "        \"ftr\",\n",
    "        \"bookies_prob\",\n",
    "    ]\n",
    ")"
   ]
  },
  {
   "cell_type": "code",
   "execution_count": 6,
   "metadata": {},
   "outputs": [],
   "source": [
    "TARGET = \"h_win\"\n",
    "FEATURE_NAMES = [col for col in train.columns if col != TARGET]\n",
    "N_TRAIN = len(train)\n",
    "NUM_BATCHES = 1\n",
    "batch_size = int(N_TRAIN / NUM_BATCHES)"
   ]
  },
  {
   "cell_type": "code",
   "execution_count": 7,
   "metadata": {},
   "outputs": [],
   "source": [
    "X_train, y_train = extract_features_and_target(train, FEATURE_NAMES, TARGET)\n",
    "X_val, y_val = extract_features_and_target(val, FEATURE_NAMES, TARGET)"
   ]
  },
  {
   "cell_type": "code",
   "execution_count": 8,
   "metadata": {},
   "outputs": [],
   "source": [
    "train_dataset = make_dataset(X_train, y_train, N_TRAIN, batch_size)"
   ]
  },
  {
   "cell_type": "markdown",
   "metadata": {},
   "source": [
    "## Defining the Model"
   ]
  },
  {
   "cell_type": "code",
   "execution_count": 9,
   "metadata": {},
   "outputs": [],
   "source": [
    "import tf_keras as tfk\n",
    "from src.bayesian_nn import create_bnn_model\n",
    "from src.priors_posteriors import std_normal_prior, std_normal_posterior"
   ]
  },
  {
   "cell_type": "code",
   "execution_count": 10,
   "metadata": {},
   "outputs": [],
   "source": [
    "LEARNING_RATE = 0.001"
   ]
  },
  {
   "cell_type": "code",
   "execution_count": 11,
   "metadata": {},
   "outputs": [],
   "source": [
    "model = create_bnn_model(\n",
    "    feature_names=FEATURE_NAMES,\n",
    "    hidden_units=[8, 8],\n",
    "    prior=std_normal_prior,\n",
    "    posterior=std_normal_posterior,\n",
    "    n_train=N_TRAIN,\n",
    ")"
   ]
  },
  {
   "cell_type": "code",
   "execution_count": 12,
   "metadata": {},
   "outputs": [],
   "source": [
    "model.compile(\n",
    "    optimizer=tfk.optimizers.legacy.RMSprop(learning_rate=LEARNING_RATE),\n",
    "    loss=tfk.losses.MeanSquaredError(),\n",
    "    metrics=[tfk.metrics.MeanSquaredError()],\n",
    ")"
   ]
  },
  {
   "cell_type": "markdown",
   "metadata": {},
   "source": [
    "## Model Training"
   ]
  },
  {
   "cell_type": "code",
   "execution_count": 13,
   "metadata": {},
   "outputs": [],
   "source": [
    "from src.helper_functions import EpochProgressBar"
   ]
  },
  {
   "cell_type": "code",
   "execution_count": 14,
   "metadata": {},
   "outputs": [],
   "source": [
    "NUM_EPOCHS = 1000"
   ]
  },
  {
   "cell_type": "code",
   "execution_count": 15,
   "metadata": {},
   "outputs": [
    {
     "name": "stderr",
     "output_type": "stream",
     "text": [
      "Training Progress: 100%|██████████| 1000/1000 [00:04<00:00, 211.09epoch/s]\n"
     ]
    },
    {
     "data": {
      "text/plain": [
       "<tf_keras.src.callbacks.History at 0x17e4e68c0>"
      ]
     },
     "execution_count": 15,
     "metadata": {},
     "output_type": "execute_result"
    }
   ],
   "source": [
    "model.fit(\n",
    "    train_dataset, epochs=NUM_EPOCHS, callbacks=[EpochProgressBar()], verbose=0\n",
    ")"
   ]
  },
  {
   "cell_type": "markdown",
   "metadata": {},
   "source": [
    "## Inference\n"
   ]
  },
  {
   "cell_type": "code",
   "execution_count": 16,
   "metadata": {},
   "outputs": [],
   "source": [
    "from src.bayesian_nn import model_inference"
   ]
  },
  {
   "cell_type": "code",
   "execution_count": 17,
   "metadata": {},
   "outputs": [],
   "source": [
    "NUM_SAMPLES = 500"
   ]
  },
  {
   "cell_type": "code",
   "execution_count": 18,
   "metadata": {},
   "outputs": [
    {
     "name": "stderr",
     "output_type": "stream",
     "text": [
      "Validation Output Sampling Progress: 100%|██████████| 500/500 [00:37<00:00, 13.46it/s]\n"
     ]
    }
   ],
   "source": [
    "sampled_probs = model_inference(model, X_val, NUM_SAMPLES, tag=\"validation\")"
   ]
  },
  {
   "cell_type": "markdown",
   "metadata": {},
   "source": [
    "## Example Output"
   ]
  },
  {
   "cell_type": "code",
   "execution_count": 19,
   "metadata": {},
   "outputs": [],
   "source": [
    "import random\n",
    "import matplotlib.pyplot as plt\n",
    "import seaborn as sns\n",
    "\n",
    "plt.style.use(\"ggplot\")"
   ]
  },
  {
   "cell_type": "code",
   "execution_count": 20,
   "metadata": {},
   "outputs": [],
   "source": [
    "random_match_idx = random.randint(0, len(val) - 1)\n",
    "match_probs = [probs[random_match_idx] for probs in sampled_probs]\n",
    "\n",
    "home = val_data.loc[random_match_idx, \"h_team\"]\n",
    "away = val_data.loc[random_match_idx, \"a_team\"]\n",
    "date = val_data.loc[random_match_idx, \"date\"]"
   ]
  },
  {
   "cell_type": "code",
   "execution_count": 21,
   "metadata": {},
   "outputs": [
    {
     "data": {
      "image/png": "[encoded data removed]",
      "text/plain": [
       "<Figure size 1000x600 with 1 Axes>"
      ]
     },
     "metadata": {},
     "output_type": "display_data"
    }
   ],
   "source": [
    "plt.figure(figsize=(10, 6))\n",
    "sns.histplot(\n",
    "    match_probs, bins=20, color=\"royalblue\", edgecolor=\"black\", alpha=0.75\n",
    ")\n",
    "\n",
    "plt.title(\n",
    "    f\"Sampled Probabilities of a Home Win in {home} v {away} on {date}\",\n",
    "    fontsize=16,\n",
    "    fontweight=\"bold\",\n",
    ")\n",
    "plt.xlabel(\"Value\", fontsize=14)\n",
    "plt.ylabel(\"Frequency\", fontsize=14)\n",
    "\n",
    "plt.grid(axis=\"y\", linestyle=\"--\", alpha=0.7)\n",
    "\n",
    "plt.show()"
   ]
  }
 ],
 "metadata": {
  "kernelspec": {
   "display_name": "bayes-ball-HWltEeJb-py3.10",
   "language": "python",
   "name": "python3"
  },
  "language_info": {
   "codemirror_mode": {
    "name": "ipython",
    "version": 3
   },
   "file_extension": ".py",
   "mimetype": "text/x-python",
   "name": "python",
   "nbconvert_exporter": "python",
   "pygments_lexer": "ipython3",
   "version": "3.10.12"
  }
 },
 "nbformat": 4,
 "nbformat_minor": 2
}
