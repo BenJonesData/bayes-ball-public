{
 "cells": [
  {
   "cell_type": "markdown",
   "metadata": {},
   "source": [
    "# Testing Different Seasons and Leagues Used to Train an EPL Model \n",
    "\n",
    "When searching for data, it’s essential to understand how a model's performance changes with different training datasets. This helps us determine what data to prioritize for optimal results.\n",
    "\n",
    "In this notebook, we examine how the choice of leagues in the training data affects model performance when evaluated exclusively on the English Premier League (EPL). To do this, we will:\n",
    "\n",
    "0. [Establish a Baseline Model](#baseline-training-on-all-available-epl-data-only):\n",
    "    - The model will predict second-half-of-season results using first-half season statistics as features.\n",
    "    - It will be trained on all available EPL data*.\n",
    "\n",
    "1. [Experiment with Data Cutoffs](#experiment-1-cutting-training-data-to-recent-seasons):\n",
    "    - We will assess the impact of restricting the training data to more recent EPL seasons by removing older seasons.\n",
    "\n",
    "2. [Incorporate Additional Leagues](#experiment-2-extending-training-data-to-other-top-leagues-all-seasons):\n",
    "    - We will explore how training on multiple leagues affects model performance when applied to EPL predictions.\n",
    "\n",
    "3. [Combine Both Strategies](#experiment-3-training-on-all-top-leagues-recent-seasons):\n",
    "    - We will train the model using data from multiple leagues but only from recent seasons. This will help determine whether including more leagues can compensate for a lack of historical EPL data should we encounter this issue in our search.\n",
    "\n",
    "4. [Remove EPL Data Completely](#experiment-4-training-on-non-epl-data-only):\n",
    "    - Finally, as a bonus, we will train on non-EPL data and test on EPL data to understand how important it is to represent the leagues we are predicting for in our training set.\n",
    "\n",
    "*The dataset we are using backdates to 2010 however there are additional seasons available from the source.\n",
    "\n",
    "By conducting these experiments, we aim to identify the most effective training data composition for predicting EPL outcomes.\n",
    "\n",
    "The modelling we use in this notebook (particularly the concept of using aggregated first-half-of-season stats to predict results in the second half) does not necessarily reflect how our future model(s) will work. This is meerly a method that sufficiently represents the likely complexity of our future model(s) whilst allowing us to use easily available back-dated data.\n",
    "\n",
    "The data used in this notebook was sourced from [Football-Data.co.uk](https://Football-Data.co.uk).\n",
    "\n"
   ]
  },
  {
   "cell_type": "markdown",
   "metadata": {},
   "source": [
    "## Experimentation Prep"
   ]
  },
  {
   "cell_type": "code",
   "execution_count": 1,
   "metadata": {},
   "outputs": [],
   "source": [
    "import pandas as pd\n",
    "import mlflow\n",
    "from functools import partial\n",
    "\n",
    "import sys\n",
    "import os"
   ]
  },
  {
   "cell_type": "code",
   "execution_count": 2,
   "metadata": {},
   "outputs": [],
   "source": [
    "sys.path.append(os.path.abspath(os.path.join(\"../\")))\n",
    "from src.preprocess import create_dataframe\n",
    "from src.experimentation import run_experiment\n",
    "from src.helper_functions import generate_random_string"
   ]
  },
  {
   "cell_type": "code",
   "execution_count": 3,
   "metadata": {},
   "outputs": [],
   "source": [
    "raw_data = pd.read_csv(\"../data/raw_games.csv\")"
   ]
  },
  {
   "cell_type": "code",
   "execution_count": 4,
   "metadata": {},
   "outputs": [
    {
     "name": "stderr",
     "output_type": "stream",
     "text": [
      "\u001b[32m2025-02-24 19:46:22.135\u001b[0m | \u001b[1mINFO    \u001b[0m | \u001b[36msrc.preprocess\u001b[0m:\u001b[36mcreate_dataframe\u001b[0m:\u001b[36m12\u001b[0m - \u001b[1mStarting dataset creation\u001b[0m\n",
      "\u001b[32m2025-02-24 19:46:22.139\u001b[0m | \u001b[1mINFO    \u001b[0m | \u001b[36msrc.preprocess\u001b[0m:\u001b[36mcreate_dataframe\u001b[0m:\u001b[36m112\u001b[0m - \u001b[1mHome and away dataframes created succesfully\u001b[0m\n",
      "\u001b[32m2025-02-24 19:46:22.143\u001b[0m | \u001b[1mINFO    \u001b[0m | \u001b[36msrc.preprocess\u001b[0m:\u001b[36mcreate_dataframe\u001b[0m:\u001b[36m118\u001b[0m - \u001b[1mHome and away dataframes succesfully combined and grouped\u001b[0m\n",
      "\u001b[32m2025-02-24 19:46:22.152\u001b[0m | \u001b[1mINFO    \u001b[0m | \u001b[36msrc.preprocess\u001b[0m:\u001b[36mcreate_dataframe\u001b[0m:\u001b[36m150\u001b[0m - \u001b[1mTeam stats succesfully merged onto game data\u001b[0m\n",
      "\u001b[32m2025-02-24 19:46:22.153\u001b[0m | \u001b[1mINFO    \u001b[0m | \u001b[36msrc.preprocess\u001b[0m:\u001b[36mcreate_dataframe\u001b[0m:\u001b[36m155\u001b[0m - \u001b[1mDuplicate columns successfully dropped\u001b[0m\n",
      "\u001b[32m2025-02-24 19:46:22.157\u001b[0m | \u001b[1mINFO    \u001b[0m | \u001b[36msrc.preprocess\u001b[0m:\u001b[36mcreate_dataframe\u001b[0m:\u001b[36m169\u001b[0m - \u001b[1mDataset creation complete\u001b[0m\n",
      "\u001b[32m2025-02-24 19:46:22.157\u001b[0m | \u001b[1mINFO    \u001b[0m | \u001b[36msrc.preprocess\u001b[0m:\u001b[36mcreate_dataframe\u001b[0m:\u001b[36m170\u001b[0m - \u001b[1mDataset length: 12783\u001b[0m\n"
     ]
    }
   ],
   "source": [
    "data = create_dataframe(raw_data)"
   ]
  },
  {
   "cell_type": "code",
   "execution_count": 5,
   "metadata": {},
   "outputs": [],
   "source": [
    "def list_remove(lst: list, remove: list) -> list:\n",
    "    return [x for x in lst if x not in remove]"
   ]
  },
  {
   "cell_type": "code",
   "execution_count": 6,
   "metadata": {},
   "outputs": [],
   "source": [
    "non_features = [\n",
    "    \"season\",\n",
    "    \"div\",\n",
    "    \"date\",\n",
    "    \"h_team\",\n",
    "    \"a_team\",\n",
    "    \"ftr\",\n",
    "    \"b365h\",\n",
    "    \"b365d\",\n",
    "    \"b365a\",\n",
    "    \"h_win\",\n",
    "    \"bookies_prob\",\n",
    "]\n",
    "FEATURE_NAMES = list_remove(data.columns, non_features)\n",
    "ALL_SEASONS = list(data[\"season\"].drop_duplicates())\n",
    "TEST_SEASONS = [\"23_24\", \"24_25\"]\n",
    "VAL_SEASONS = [\"21_22\", \"22_23\"]"
   ]
  },
  {
   "cell_type": "code",
   "execution_count": 7,
   "metadata": {},
   "outputs": [],
   "source": [
    "columns = FEATURE_NAMES + [\"bookies_prob\", \"div\", \"season\", \"h_win\"]\n",
    "\n",
    "data = data[columns]\n",
    "\n",
    "train_full = data[~data[\"season\"].isin(VAL_SEASONS + TEST_SEASONS)]\n",
    "train_full = train_full.drop(columns=[\"bookies_prob\"])\n",
    "\n",
    "val = data[data[\"season\"].isin(VAL_SEASONS) & (data[\"div\"] == \"E0\")]\n",
    "val = val.drop(columns=[\"div\"])"
   ]
  },
  {
   "cell_type": "code",
   "execution_count": 8,
   "metadata": {},
   "outputs": [],
   "source": [
    "seasons_13 = list_remove(ALL_SEASONS, [\"10_11\", \"11_12\", \"12_13\"])\n",
    "seasons_17 = list_remove(seasons_13, [\"13_14\", \"14_15\", \"15_16\"])"
   ]
  },
  {
   "cell_type": "code",
   "execution_count": 9,
   "metadata": {},
   "outputs": [],
   "source": [
    "training_experiment = partial(\n",
    "    run_experiment,\n",
    "    experiment_name=\"data-needs-experiment\",\n",
    "    val_data=val,\n",
    "    hidden_units=None,\n",
    "    learning_rate=0.001,\n",
    "    num_epochs=10000,\n",
    "    num_samples=1000,\n",
    "    num_batches=1,\n",
    "    league_tag=\"EPL\",\n",
    "    return_model=False,\n",
    ")"
   ]
  },
  {
   "cell_type": "code",
   "execution_count": 10,
   "metadata": {},
   "outputs": [],
   "source": [
    "def get_run_metrics(run_id: str) -> pd.DataFrame:\n",
    "    metrics = mlflow.search_runs(filter_string=f\"tags.run_id = '{run_id}'\")[\n",
    "        [\n",
    "            \"tags.run_description\",\n",
    "            \"params.n_train\",\n",
    "            \"params.num_train_seasons\",\n",
    "            \"metrics.train_auc\",\n",
    "            \"metrics.val_auc\",\n",
    "            \"metrics.train_mse\",\n",
    "            \"metrics.val_mse\",\n",
    "            \"metrics.val_mse_diff\",\n",
    "            \"metrics.val_auc_diff\",\n",
    "        ]\n",
    "    ]\n",
    "\n",
    "    return metrics"
   ]
  },
  {
   "cell_type": "markdown",
   "metadata": {},
   "source": [
    "## Baseline: Training on All Available EPL Data Only"
   ]
  },
  {
   "cell_type": "code",
   "execution_count": 11,
   "metadata": {},
   "outputs": [],
   "source": [
    "train_bl = train_full.copy()\n",
    "train_bl = train_bl.loc[train_bl[\"div\"] == \"E0\"]\n",
    "train_bl = train_bl.drop(columns=\"div\")"
   ]
  },
  {
   "cell_type": "code",
   "execution_count": 12,
   "metadata": {},
   "outputs": [
    {
     "name": "stdout",
     "output_type": "stream",
     "text": [
      "Experiment run ID: A7jYPk\n"
     ]
    },
    {
     "name": "stderr",
     "output_type": "stream",
     "text": [
      "Training Progress: 100%|██████████| 10000/10000 [00:17<00:00, 588.08epoch/s]\n",
      "Training Output Sampling Progress: 100%|██████████| 1000/1000 [00:25<00:00, 38.60it/s]\n",
      "Validation Output Sampling Progress: 100%|██████████| 1000/1000 [00:25<00:00, 38.84it/s]\n"
     ]
    },
    {
     "name": "stdout",
     "output_type": "stream",
     "text": [
      "🏃 View run wistful-turtle-265 at: http://localhost:5001/#/experiments/3/runs/323f496b4ea44eb3a7fc7880bbd69b54\n",
      "🧪 View experiment at: http://localhost:5001/#/experiments/3\n"
     ]
    }
   ],
   "source": [
    "bl_run_id = generate_random_string()\n",
    "print(f\"Experiment run ID: {bl_run_id}\")\n",
    "\n",
    "training_experiment(\n",
    "    run_id=bl_run_id,\n",
    "    train_data=train_bl,\n",
    "    run_description=\"training on 2010-2021 EPL data\",\n",
    ")"
   ]
  },
  {
   "cell_type": "code",
   "execution_count": 13,
   "metadata": {},
   "outputs": [
    {
     "data": {
      "text/html": [
       "<div>\n",
       "<style scoped>\n",
       "    .dataframe tbody tr th:only-of-type {\n",
       "        vertical-align: middle;\n",
       "    }\n",
       "\n",
       "    .dataframe tbody tr th {\n",
       "        vertical-align: top;\n",
       "    }\n",
       "\n",
       "    .dataframe thead th {\n",
       "        text-align: right;\n",
       "    }\n",
       "</style>\n",
       "<table border=\"1\" class=\"dataframe\">\n",
       "  <thead>\n",
       "    <tr style=\"text-align: right;\">\n",
       "      <th></th>\n",
       "      <th>tags.run_description</th>\n",
       "      <th>params.n_train</th>\n",
       "      <th>params.num_train_seasons</th>\n",
       "      <th>metrics.train_auc</th>\n",
       "      <th>metrics.val_auc</th>\n",
       "      <th>metrics.train_mse</th>\n",
       "      <th>metrics.val_mse</th>\n",
       "      <th>metrics.val_mse_diff</th>\n",
       "      <th>metrics.val_auc_diff</th>\n",
       "    </tr>\n",
       "  </thead>\n",
       "  <tbody>\n",
       "    <tr>\n",
       "      <th>0</th>\n",
       "      <td>training on 2010-2021 EPL data</td>\n",
       "      <td>2067</td>\n",
       "      <td>11</td>\n",
       "      <td>0.711299</td>\n",
       "      <td>0.717342</td>\n",
       "      <td>0.215326</td>\n",
       "      <td>0.211627</td>\n",
       "      <td>0.006569</td>\n",
       "      <td>-0.025538</td>\n",
       "    </tr>\n",
       "  </tbody>\n",
       "</table>\n",
       "</div>"
      ],
      "text/plain": [
       "             tags.run_description params.n_train params.num_train_seasons  \\\n",
       "0  training on 2010-2021 EPL data           2067                       11   \n",
       "\n",
       "   metrics.train_auc  metrics.val_auc  metrics.train_mse  metrics.val_mse  \\\n",
       "0           0.711299         0.717342           0.215326         0.211627   \n",
       "\n",
       "   metrics.val_mse_diff  metrics.val_auc_diff  \n",
       "0              0.006569             -0.025538  "
      ]
     },
     "execution_count": 13,
     "metadata": {},
     "output_type": "execute_result"
    }
   ],
   "source": [
    "run_data_bl = get_run_metrics(bl_run_id)\n",
    "run_data_bl"
   ]
  },
  {
   "cell_type": "markdown",
   "metadata": {},
   "source": [
    "## Experiment 1: Cutting Training Data To Recent Seasons "
   ]
  },
  {
   "cell_type": "markdown",
   "metadata": {},
   "source": [
    "### Part A: 2013-2021"
   ]
  },
  {
   "cell_type": "code",
   "execution_count": 14,
   "metadata": {},
   "outputs": [],
   "source": [
    "train_e1a = train_full.copy()\n",
    "train_e1a = train_e1a.loc[\n",
    "    (train_e1a[\"div\"] == \"E0\") & (train_e1a[\"season\"].isin(seasons_13))\n",
    "]\n",
    "train_e1a = train_e1a.drop(columns=\"div\")"
   ]
  },
  {
   "cell_type": "code",
   "execution_count": 15,
   "metadata": {},
   "outputs": [
    {
     "name": "stdout",
     "output_type": "stream",
     "text": [
      "Experiment run ID: 97pRTI\n"
     ]
    },
    {
     "name": "stderr",
     "output_type": "stream",
     "text": [
      "Training Progress: 100%|██████████| 10000/10000 [00:15<00:00, 625.46epoch/s]\n",
      "Training Output Sampling Progress: 100%|██████████| 1000/1000 [00:25<00:00, 39.36it/s]\n",
      "Validation Output Sampling Progress: 100%|██████████| 1000/1000 [00:25<00:00, 38.95it/s]"
     ]
    },
    {
     "name": "stdout",
     "output_type": "stream",
     "text": [
      "🏃 View run rare-mule-884 at: http://localhost:5001/#/experiments/3/runs/9333709b20724b31950b505892165c8d\n",
      "🧪 View experiment at: http://localhost:5001/#/experiments/3\n"
     ]
    },
    {
     "name": "stderr",
     "output_type": "stream",
     "text": [
      "\n"
     ]
    }
   ],
   "source": [
    "e1a_run_id = generate_random_string()\n",
    "print(f\"Experiment run ID: {e1a_run_id}\")\n",
    "\n",
    "training_experiment(\n",
    "    run_id=e1a_run_id,\n",
    "    train_data=train_e1a,\n",
    "    run_description=\"training on 2013-2021 EPL data\",\n",
    ")"
   ]
  },
  {
   "cell_type": "code",
   "execution_count": 16,
   "metadata": {},
   "outputs": [
    {
     "data": {
      "text/html": [
       "<div>\n",
       "<style scoped>\n",
       "    .dataframe tbody tr th:only-of-type {\n",
       "        vertical-align: middle;\n",
       "    }\n",
       "\n",
       "    .dataframe tbody tr th {\n",
       "        vertical-align: top;\n",
       "    }\n",
       "\n",
       "    .dataframe thead th {\n",
       "        text-align: right;\n",
       "    }\n",
       "</style>\n",
       "<table border=\"1\" class=\"dataframe\">\n",
       "  <thead>\n",
       "    <tr style=\"text-align: right;\">\n",
       "      <th></th>\n",
       "      <th>tags.run_description</th>\n",
       "      <th>params.n_train</th>\n",
       "      <th>params.num_train_seasons</th>\n",
       "      <th>metrics.train_auc</th>\n",
       "      <th>metrics.val_auc</th>\n",
       "      <th>metrics.train_mse</th>\n",
       "      <th>metrics.val_mse</th>\n",
       "      <th>metrics.val_mse_diff</th>\n",
       "      <th>metrics.val_auc_diff</th>\n",
       "    </tr>\n",
       "  </thead>\n",
       "  <tbody>\n",
       "    <tr>\n",
       "      <th>0</th>\n",
       "      <td>training on 2013-2021 EPL data</td>\n",
       "      <td>1505</td>\n",
       "      <td>8</td>\n",
       "      <td>0.710949</td>\n",
       "      <td>0.710746</td>\n",
       "      <td>0.215527</td>\n",
       "      <td>0.213505</td>\n",
       "      <td>0.008447</td>\n",
       "      <td>-0.032135</td>\n",
       "    </tr>\n",
       "  </tbody>\n",
       "</table>\n",
       "</div>"
      ],
      "text/plain": [
       "             tags.run_description params.n_train params.num_train_seasons  \\\n",
       "0  training on 2013-2021 EPL data           1505                        8   \n",
       "\n",
       "   metrics.train_auc  metrics.val_auc  metrics.train_mse  metrics.val_mse  \\\n",
       "0           0.710949         0.710746           0.215527         0.213505   \n",
       "\n",
       "   metrics.val_mse_diff  metrics.val_auc_diff  \n",
       "0              0.008447             -0.032135  "
      ]
     },
     "execution_count": 16,
     "metadata": {},
     "output_type": "execute_result"
    }
   ],
   "source": [
    "run_data_e1a = get_run_metrics(e1a_run_id)\n",
    "run_data_all = pd.concat([run_data_bl, run_data_e1a])\n",
    "run_data_e1a"
   ]
  },
  {
   "cell_type": "markdown",
   "metadata": {},
   "source": [
    "### Part B: 2017-2021"
   ]
  },
  {
   "cell_type": "code",
   "execution_count": 17,
   "metadata": {},
   "outputs": [],
   "source": [
    "train_e1b = train_full.copy()\n",
    "train_e1b = train_e1b.loc[\n",
    "    (train_e1b[\"div\"] == \"E0\") & (train_e1b[\"season\"].isin(seasons_17))\n",
    "]\n",
    "train_e1b = train_e1b.drop(columns=\"div\")"
   ]
  },
  {
   "cell_type": "code",
   "execution_count": 18,
   "metadata": {},
   "outputs": [
    {
     "name": "stdout",
     "output_type": "stream",
     "text": [
      "Experiment run ID: mubu15\n"
     ]
    },
    {
     "name": "stderr",
     "output_type": "stream",
     "text": [
      "Training Progress: 100%|██████████| 10000/10000 [00:15<00:00, 634.65epoch/s]\n",
      "Training Output Sampling Progress: 100%|██████████| 1000/1000 [00:25<00:00, 38.91it/s]\n",
      "Validation Output Sampling Progress: 100%|██████████| 1000/1000 [00:25<00:00, 38.93it/s]"
     ]
    },
    {
     "name": "stdout",
     "output_type": "stream",
     "text": [
      "🏃 View run useful-lynx-514 at: http://localhost:5001/#/experiments/3/runs/8da196d93e3d44b08e15a75ee7ede010\n",
      "🧪 View experiment at: http://localhost:5001/#/experiments/3\n"
     ]
    },
    {
     "name": "stderr",
     "output_type": "stream",
     "text": [
      "\n"
     ]
    }
   ],
   "source": [
    "e1b_run_id = generate_random_string()\n",
    "print(f\"Experiment run ID: {e1b_run_id}\")\n",
    "\n",
    "training_experiment(\n",
    "    run_id=e1b_run_id,\n",
    "    train_data=train_e1b,\n",
    "    run_description=\"training on 2017-2021 EPL data\",\n",
    ")"
   ]
  },
  {
   "cell_type": "code",
   "execution_count": 19,
   "metadata": {},
   "outputs": [
    {
     "data": {
      "text/html": [
       "<div>\n",
       "<style scoped>\n",
       "    .dataframe tbody tr th:only-of-type {\n",
       "        vertical-align: middle;\n",
       "    }\n",
       "\n",
       "    .dataframe tbody tr th {\n",
       "        vertical-align: top;\n",
       "    }\n",
       "\n",
       "    .dataframe thead th {\n",
       "        text-align: right;\n",
       "    }\n",
       "</style>\n",
       "<table border=\"1\" class=\"dataframe\">\n",
       "  <thead>\n",
       "    <tr style=\"text-align: right;\">\n",
       "      <th></th>\n",
       "      <th>tags.run_description</th>\n",
       "      <th>params.n_train</th>\n",
       "      <th>params.num_train_seasons</th>\n",
       "      <th>metrics.train_auc</th>\n",
       "      <th>metrics.val_auc</th>\n",
       "      <th>metrics.train_mse</th>\n",
       "      <th>metrics.val_mse</th>\n",
       "      <th>metrics.val_mse_diff</th>\n",
       "      <th>metrics.val_auc_diff</th>\n",
       "    </tr>\n",
       "  </thead>\n",
       "  <tbody>\n",
       "    <tr>\n",
       "      <th>0</th>\n",
       "      <td>training on 2017-2021 EPL data</td>\n",
       "      <td>945</td>\n",
       "      <td>5</td>\n",
       "      <td>0.724135</td>\n",
       "      <td>0.708824</td>\n",
       "      <td>0.211811</td>\n",
       "      <td>0.214416</td>\n",
       "      <td>0.009357</td>\n",
       "      <td>-0.034056</td>\n",
       "    </tr>\n",
       "  </tbody>\n",
       "</table>\n",
       "</div>"
      ],
      "text/plain": [
       "             tags.run_description params.n_train params.num_train_seasons  \\\n",
       "0  training on 2017-2021 EPL data            945                        5   \n",
       "\n",
       "   metrics.train_auc  metrics.val_auc  metrics.train_mse  metrics.val_mse  \\\n",
       "0           0.724135         0.708824           0.211811         0.214416   \n",
       "\n",
       "   metrics.val_mse_diff  metrics.val_auc_diff  \n",
       "0              0.009357             -0.034056  "
      ]
     },
     "execution_count": 19,
     "metadata": {},
     "output_type": "execute_result"
    }
   ],
   "source": [
    "run_data_e1b = get_run_metrics(e1b_run_id)\n",
    "run_data_all = pd.concat([run_data_all, run_data_e1b])\n",
    "run_data_e1b"
   ]
  },
  {
   "cell_type": "markdown",
   "metadata": {},
   "source": [
    "## Experiment 2: Extending Training Data To Other Top Leagues (All Seasons)"
   ]
  },
  {
   "cell_type": "code",
   "execution_count": 20,
   "metadata": {},
   "outputs": [],
   "source": [
    "train_e2 = train_full.copy()\n",
    "train_e2 = train_e2.drop(columns=\"div\")"
   ]
  },
  {
   "cell_type": "code",
   "execution_count": 21,
   "metadata": {},
   "outputs": [
    {
     "name": "stdout",
     "output_type": "stream",
     "text": [
      "Experiment run ID: STFdAt\n"
     ]
    },
    {
     "name": "stderr",
     "output_type": "stream",
     "text": [
      "Training Progress: 100%|██████████| 10000/10000 [00:24<00:00, 416.43epoch/s]\n",
      "Training Output Sampling Progress: 100%|██████████| 1000/1000 [00:27<00:00, 37.03it/s]\n",
      "Validation Output Sampling Progress: 100%|██████████| 1000/1000 [00:25<00:00, 38.78it/s]"
     ]
    },
    {
     "name": "stdout",
     "output_type": "stream",
     "text": [
      "🏃 View run selective-mole-507 at: http://localhost:5001/#/experiments/3/runs/c0abcfc1e15f468f990690ff0b58f6a4\n",
      "🧪 View experiment at: http://localhost:5001/#/experiments/3\n"
     ]
    },
    {
     "name": "stderr",
     "output_type": "stream",
     "text": [
      "\n"
     ]
    }
   ],
   "source": [
    "e2_run_id = generate_random_string()\n",
    "print(f\"Experiment run ID: {e2_run_id}\")\n",
    "\n",
    "training_experiment(\n",
    "    run_id=e2_run_id,\n",
    "    train_data=train_e2,\n",
    "    run_description=\"training on 2010-2021 all leagues data\",\n",
    ")"
   ]
  },
  {
   "cell_type": "code",
   "execution_count": 22,
   "metadata": {},
   "outputs": [
    {
     "data": {
      "text/html": [
       "<div>\n",
       "<style scoped>\n",
       "    .dataframe tbody tr th:only-of-type {\n",
       "        vertical-align: middle;\n",
       "    }\n",
       "\n",
       "    .dataframe tbody tr th {\n",
       "        vertical-align: top;\n",
       "    }\n",
       "\n",
       "    .dataframe thead th {\n",
       "        text-align: right;\n",
       "    }\n",
       "</style>\n",
       "<table border=\"1\" class=\"dataframe\">\n",
       "  <thead>\n",
       "    <tr style=\"text-align: right;\">\n",
       "      <th></th>\n",
       "      <th>tags.run_description</th>\n",
       "      <th>params.n_train</th>\n",
       "      <th>params.num_train_seasons</th>\n",
       "      <th>metrics.train_auc</th>\n",
       "      <th>metrics.val_auc</th>\n",
       "      <th>metrics.train_mse</th>\n",
       "      <th>metrics.val_mse</th>\n",
       "      <th>metrics.val_mse_diff</th>\n",
       "      <th>metrics.val_auc_diff</th>\n",
       "    </tr>\n",
       "  </thead>\n",
       "  <tbody>\n",
       "    <tr>\n",
       "      <th>0</th>\n",
       "      <td>training on 2010-2021 all leagues data</td>\n",
       "      <td>9840</td>\n",
       "      <td>11</td>\n",
       "      <td>0.699511</td>\n",
       "      <td>0.711578</td>\n",
       "      <td>0.217842</td>\n",
       "      <td>0.212731</td>\n",
       "      <td>0.007673</td>\n",
       "      <td>-0.031303</td>\n",
       "    </tr>\n",
       "  </tbody>\n",
       "</table>\n",
       "</div>"
      ],
      "text/plain": [
       "                     tags.run_description params.n_train  \\\n",
       "0  training on 2010-2021 all leagues data           9840   \n",
       "\n",
       "  params.num_train_seasons  metrics.train_auc  metrics.val_auc  \\\n",
       "0                       11           0.699511         0.711578   \n",
       "\n",
       "   metrics.train_mse  metrics.val_mse  metrics.val_mse_diff  \\\n",
       "0           0.217842         0.212731              0.007673   \n",
       "\n",
       "   metrics.val_auc_diff  \n",
       "0             -0.031303  "
      ]
     },
     "execution_count": 22,
     "metadata": {},
     "output_type": "execute_result"
    }
   ],
   "source": [
    "run_data_e2 = get_run_metrics(e2_run_id)\n",
    "run_data_all = pd.concat([run_data_all, run_data_e2])\n",
    "run_data_e2"
   ]
  },
  {
   "cell_type": "markdown",
   "metadata": {
    "vscode": {
     "languageId": "bat"
    }
   },
   "source": [
    "## Experiment 3: Training on All Top Leagues (Recent Seasons)"
   ]
  },
  {
   "cell_type": "markdown",
   "metadata": {},
   "source": [
    "### Part A: 2013-2021"
   ]
  },
  {
   "cell_type": "code",
   "execution_count": 23,
   "metadata": {},
   "outputs": [],
   "source": [
    "train_e3a = train_full.copy()\n",
    "train_e3a = train_e3a.loc[train_e3a[\"season\"].isin(seasons_13)]\n",
    "train_e3a = train_e3a.drop(columns=\"div\")"
   ]
  },
  {
   "cell_type": "code",
   "execution_count": 24,
   "metadata": {},
   "outputs": [
    {
     "name": "stdout",
     "output_type": "stream",
     "text": [
      "Experiment run ID: pKg0Zb\n"
     ]
    },
    {
     "name": "stderr",
     "output_type": "stream",
     "text": [
      "Training Progress: 100%|██████████| 10000/10000 [00:22<00:00, 451.97epoch/s]\n",
      "Training Output Sampling Progress: 100%|██████████| 1000/1000 [00:27<00:00, 36.96it/s]\n",
      "Validation Output Sampling Progress: 100%|██████████| 1000/1000 [00:26<00:00, 37.29it/s]"
     ]
    },
    {
     "name": "stdout",
     "output_type": "stream",
     "text": [
      "🏃 View run awesome-wolf-550 at: http://localhost:5001/#/experiments/3/runs/a1b0706a01e84807878d2cf4dae9bc80\n",
      "🧪 View experiment at: http://localhost:5001/#/experiments/3\n"
     ]
    },
    {
     "name": "stderr",
     "output_type": "stream",
     "text": [
      "\n"
     ]
    }
   ],
   "source": [
    "e3a_run_id = generate_random_string()\n",
    "print(f\"Experiment run ID: {e3a_run_id}\")\n",
    "\n",
    "training_experiment(\n",
    "    run_id=e3a_run_id,\n",
    "    train_data=train_e3a,\n",
    "    run_description=\"training on 2013-2021 all leagues data\",\n",
    ")"
   ]
  },
  {
   "cell_type": "code",
   "execution_count": 25,
   "metadata": {},
   "outputs": [
    {
     "data": {
      "text/html": [
       "<div>\n",
       "<style scoped>\n",
       "    .dataframe tbody tr th:only-of-type {\n",
       "        vertical-align: middle;\n",
       "    }\n",
       "\n",
       "    .dataframe tbody tr th {\n",
       "        vertical-align: top;\n",
       "    }\n",
       "\n",
       "    .dataframe thead th {\n",
       "        text-align: right;\n",
       "    }\n",
       "</style>\n",
       "<table border=\"1\" class=\"dataframe\">\n",
       "  <thead>\n",
       "    <tr style=\"text-align: right;\">\n",
       "      <th></th>\n",
       "      <th>tags.run_description</th>\n",
       "      <th>params.n_train</th>\n",
       "      <th>params.num_train_seasons</th>\n",
       "      <th>metrics.train_auc</th>\n",
       "      <th>metrics.val_auc</th>\n",
       "      <th>metrics.train_mse</th>\n",
       "      <th>metrics.val_mse</th>\n",
       "      <th>metrics.val_mse_diff</th>\n",
       "      <th>metrics.val_auc_diff</th>\n",
       "    </tr>\n",
       "  </thead>\n",
       "  <tbody>\n",
       "    <tr>\n",
       "      <th>0</th>\n",
       "      <td>training on 2013-2021 all leagues data</td>\n",
       "      <td>7127</td>\n",
       "      <td>8</td>\n",
       "      <td>0.707514</td>\n",
       "      <td>0.711836</td>\n",
       "      <td>0.215668</td>\n",
       "      <td>0.213126</td>\n",
       "      <td>0.008068</td>\n",
       "      <td>-0.031045</td>\n",
       "    </tr>\n",
       "  </tbody>\n",
       "</table>\n",
       "</div>"
      ],
      "text/plain": [
       "                     tags.run_description params.n_train  \\\n",
       "0  training on 2013-2021 all leagues data           7127   \n",
       "\n",
       "  params.num_train_seasons  metrics.train_auc  metrics.val_auc  \\\n",
       "0                        8           0.707514         0.711836   \n",
       "\n",
       "   metrics.train_mse  metrics.val_mse  metrics.val_mse_diff  \\\n",
       "0           0.215668         0.213126              0.008068   \n",
       "\n",
       "   metrics.val_auc_diff  \n",
       "0             -0.031045  "
      ]
     },
     "execution_count": 25,
     "metadata": {},
     "output_type": "execute_result"
    }
   ],
   "source": [
    "run_data_e3a = get_run_metrics(e3a_run_id)\n",
    "run_data_all = pd.concat([run_data_all, run_data_e3a])\n",
    "run_data_e3a"
   ]
  },
  {
   "cell_type": "markdown",
   "metadata": {},
   "source": [
    "### Part B: 2017-2021"
   ]
  },
  {
   "cell_type": "code",
   "execution_count": 26,
   "metadata": {},
   "outputs": [],
   "source": [
    "train_e3b = train_full.copy()\n",
    "train_e3b = train_e3b.loc[train_e3b[\"season\"].isin(seasons_17)]\n",
    "train_e3b = train_e3b.drop(columns=\"div\")"
   ]
  },
  {
   "cell_type": "code",
   "execution_count": 27,
   "metadata": {},
   "outputs": [
    {
     "name": "stdout",
     "output_type": "stream",
     "text": [
      "Experiment run ID: AgkOC2\n"
     ]
    },
    {
     "name": "stderr",
     "output_type": "stream",
     "text": [
      "Training Progress: 100%|██████████| 10000/10000 [00:20<00:00, 499.96epoch/s]\n",
      "Training Output Sampling Progress: 100%|██████████| 1000/1000 [00:26<00:00, 37.30it/s]\n",
      "Validation Output Sampling Progress: 100%|██████████| 1000/1000 [00:26<00:00, 38.44it/s]"
     ]
    },
    {
     "name": "stdout",
     "output_type": "stream",
     "text": [
      "🏃 View run bustling-hen-867 at: http://localhost:5001/#/experiments/3/runs/b5603adba2824b34ad9d057118754d40\n",
      "🧪 View experiment at: http://localhost:5001/#/experiments/3\n"
     ]
    },
    {
     "name": "stderr",
     "output_type": "stream",
     "text": [
      "\n"
     ]
    }
   ],
   "source": [
    "e3b_run_id = generate_random_string()\n",
    "print(f\"Experiment run ID: {e3b_run_id}\")\n",
    "\n",
    "training_experiment(\n",
    "    run_id=e3b_run_id,\n",
    "    train_data=train_e3b,\n",
    "    run_description=\"training on 2017-2021 all leagues data\",\n",
    ")"
   ]
  },
  {
   "cell_type": "code",
   "execution_count": 28,
   "metadata": {},
   "outputs": [
    {
     "data": {
      "text/html": [
       "<div>\n",
       "<style scoped>\n",
       "    .dataframe tbody tr th:only-of-type {\n",
       "        vertical-align: middle;\n",
       "    }\n",
       "\n",
       "    .dataframe tbody tr th {\n",
       "        vertical-align: top;\n",
       "    }\n",
       "\n",
       "    .dataframe thead th {\n",
       "        text-align: right;\n",
       "    }\n",
       "</style>\n",
       "<table border=\"1\" class=\"dataframe\">\n",
       "  <thead>\n",
       "    <tr style=\"text-align: right;\">\n",
       "      <th></th>\n",
       "      <th>tags.run_description</th>\n",
       "      <th>params.n_train</th>\n",
       "      <th>params.num_train_seasons</th>\n",
       "      <th>metrics.train_auc</th>\n",
       "      <th>metrics.val_auc</th>\n",
       "      <th>metrics.train_mse</th>\n",
       "      <th>metrics.val_mse</th>\n",
       "      <th>metrics.val_mse_diff</th>\n",
       "      <th>metrics.val_auc_diff</th>\n",
       "    </tr>\n",
       "  </thead>\n",
       "  <tbody>\n",
       "    <tr>\n",
       "      <th>0</th>\n",
       "      <td>training on 2017-2021 all leagues data</td>\n",
       "      <td>4442</td>\n",
       "      <td>5</td>\n",
       "      <td>0.717922</td>\n",
       "      <td>0.709083</td>\n",
       "      <td>0.212375</td>\n",
       "      <td>0.214785</td>\n",
       "      <td>0.009727</td>\n",
       "      <td>-0.033798</td>\n",
       "    </tr>\n",
       "  </tbody>\n",
       "</table>\n",
       "</div>"
      ],
      "text/plain": [
       "                     tags.run_description params.n_train  \\\n",
       "0  training on 2017-2021 all leagues data           4442   \n",
       "\n",
       "  params.num_train_seasons  metrics.train_auc  metrics.val_auc  \\\n",
       "0                        5           0.717922         0.709083   \n",
       "\n",
       "   metrics.train_mse  metrics.val_mse  metrics.val_mse_diff  \\\n",
       "0           0.212375         0.214785              0.009727   \n",
       "\n",
       "   metrics.val_auc_diff  \n",
       "0             -0.033798  "
      ]
     },
     "execution_count": 28,
     "metadata": {},
     "output_type": "execute_result"
    }
   ],
   "source": [
    "run_data_e3b = get_run_metrics(e3b_run_id)\n",
    "run_data_all = pd.concat([run_data_all, run_data_e3b])\n",
    "run_data_e3b"
   ]
  },
  {
   "cell_type": "markdown",
   "metadata": {},
   "source": [
    "## Experiment 4: Training on Non-EPL Data Only"
   ]
  },
  {
   "cell_type": "code",
   "execution_count": 29,
   "metadata": {},
   "outputs": [],
   "source": [
    "train_e4 = train_full.copy()\n",
    "train_e4 = train_e4.loc[train_e4[\"div\"] != \"E0\"]\n",
    "train_e4 = train_e4.drop(columns=\"div\")"
   ]
  },
  {
   "cell_type": "code",
   "execution_count": 30,
   "metadata": {},
   "outputs": [
    {
     "name": "stdout",
     "output_type": "stream",
     "text": [
      "Experiment run ID: HZzPTV\n"
     ]
    },
    {
     "name": "stderr",
     "output_type": "stream",
     "text": [
      "Training Progress: 100%|██████████| 10000/10000 [00:22<00:00, 448.82epoch/s]\n",
      "Training Output Sampling Progress: 100%|██████████| 1000/1000 [00:27<00:00, 36.78it/s]\n",
      "Validation Output Sampling Progress: 100%|██████████| 1000/1000 [00:27<00:00, 36.38it/s]"
     ]
    },
    {
     "name": "stdout",
     "output_type": "stream",
     "text": [
      "🏃 View run righteous-snail-252 at: http://localhost:5001/#/experiments/3/runs/84a207c980fe496da1f153fc333a87df\n",
      "🧪 View experiment at: http://localhost:5001/#/experiments/3\n"
     ]
    },
    {
     "name": "stderr",
     "output_type": "stream",
     "text": [
      "\n"
     ]
    }
   ],
   "source": [
    "e4_run_id = generate_random_string()\n",
    "print(f\"Experiment run ID: {e4_run_id}\")\n",
    "\n",
    "training_experiment(\n",
    "    run_id=e4_run_id,\n",
    "    train_data=train_e4,\n",
    "    run_description=\"training on 2010-2021 EPL removed data\",\n",
    ")"
   ]
  },
  {
   "cell_type": "code",
   "execution_count": 31,
   "metadata": {},
   "outputs": [
    {
     "data": {
      "text/html": [
       "<div>\n",
       "<style scoped>\n",
       "    .dataframe tbody tr th:only-of-type {\n",
       "        vertical-align: middle;\n",
       "    }\n",
       "\n",
       "    .dataframe tbody tr th {\n",
       "        vertical-align: top;\n",
       "    }\n",
       "\n",
       "    .dataframe thead th {\n",
       "        text-align: right;\n",
       "    }\n",
       "</style>\n",
       "<table border=\"1\" class=\"dataframe\">\n",
       "  <thead>\n",
       "    <tr style=\"text-align: right;\">\n",
       "      <th></th>\n",
       "      <th>tags.run_description</th>\n",
       "      <th>params.n_train</th>\n",
       "      <th>params.num_train_seasons</th>\n",
       "      <th>metrics.train_auc</th>\n",
       "      <th>metrics.val_auc</th>\n",
       "      <th>metrics.train_mse</th>\n",
       "      <th>metrics.val_mse</th>\n",
       "      <th>metrics.val_mse_diff</th>\n",
       "      <th>metrics.val_auc_diff</th>\n",
       "    </tr>\n",
       "  </thead>\n",
       "  <tbody>\n",
       "    <tr>\n",
       "      <th>0</th>\n",
       "      <td>training on 2010-2021 EPL removed data</td>\n",
       "      <td>7773</td>\n",
       "      <td>11</td>\n",
       "      <td>0.696776</td>\n",
       "      <td>0.712581</td>\n",
       "      <td>0.218247</td>\n",
       "      <td>0.212735</td>\n",
       "      <td>0.007676</td>\n",
       "      <td>-0.030299</td>\n",
       "    </tr>\n",
       "  </tbody>\n",
       "</table>\n",
       "</div>"
      ],
      "text/plain": [
       "                     tags.run_description params.n_train  \\\n",
       "0  training on 2010-2021 EPL removed data           7773   \n",
       "\n",
       "  params.num_train_seasons  metrics.train_auc  metrics.val_auc  \\\n",
       "0                       11           0.696776         0.712581   \n",
       "\n",
       "   metrics.train_mse  metrics.val_mse  metrics.val_mse_diff  \\\n",
       "0           0.218247         0.212735              0.007676   \n",
       "\n",
       "   metrics.val_auc_diff  \n",
       "0             -0.030299  "
      ]
     },
     "execution_count": 31,
     "metadata": {},
     "output_type": "execute_result"
    }
   ],
   "source": [
    "run_data_e4 = get_run_metrics(e4_run_id)\n",
    "run_data_all = pd.concat([run_data_all, run_data_e4])\n",
    "run_data_e4"
   ]
  },
  {
   "cell_type": "markdown",
   "metadata": {},
   "source": [
    "## Comparison and Conclusion"
   ]
  },
  {
   "cell_type": "code",
   "execution_count": 32,
   "metadata": {},
   "outputs": [
    {
     "data": {
      "text/html": [
       "<div>\n",
       "<style scoped>\n",
       "    .dataframe tbody tr th:only-of-type {\n",
       "        vertical-align: middle;\n",
       "    }\n",
       "\n",
       "    .dataframe tbody tr th {\n",
       "        vertical-align: top;\n",
       "    }\n",
       "\n",
       "    .dataframe thead th {\n",
       "        text-align: right;\n",
       "    }\n",
       "</style>\n",
       "<table border=\"1\" class=\"dataframe\">\n",
       "  <thead>\n",
       "    <tr style=\"text-align: right;\">\n",
       "      <th></th>\n",
       "      <th>tags.run_description</th>\n",
       "      <th>params.n_train</th>\n",
       "      <th>params.num_train_seasons</th>\n",
       "      <th>metrics.val_auc</th>\n",
       "      <th>metrics.val_mse</th>\n",
       "      <th>metrics.val_mse_diff</th>\n",
       "      <th>metrics.val_auc_diff</th>\n",
       "    </tr>\n",
       "  </thead>\n",
       "  <tbody>\n",
       "    <tr>\n",
       "      <th>0</th>\n",
       "      <td>training on 2010-2021 EPL data</td>\n",
       "      <td>2067</td>\n",
       "      <td>11</td>\n",
       "      <td>0.717342</td>\n",
       "      <td>0.211627</td>\n",
       "      <td>0.006569</td>\n",
       "      <td>-0.025538</td>\n",
       "    </tr>\n",
       "    <tr>\n",
       "      <th>0</th>\n",
       "      <td>training on 2010-2021 all leagues data</td>\n",
       "      <td>9840</td>\n",
       "      <td>11</td>\n",
       "      <td>0.711578</td>\n",
       "      <td>0.212731</td>\n",
       "      <td>0.007673</td>\n",
       "      <td>-0.031303</td>\n",
       "    </tr>\n",
       "    <tr>\n",
       "      <th>0</th>\n",
       "      <td>training on 2010-2021 EPL removed data</td>\n",
       "      <td>7773</td>\n",
       "      <td>11</td>\n",
       "      <td>0.712581</td>\n",
       "      <td>0.212735</td>\n",
       "      <td>0.007676</td>\n",
       "      <td>-0.030299</td>\n",
       "    </tr>\n",
       "    <tr>\n",
       "      <th>0</th>\n",
       "      <td>training on 2013-2021 all leagues data</td>\n",
       "      <td>7127</td>\n",
       "      <td>8</td>\n",
       "      <td>0.711836</td>\n",
       "      <td>0.213126</td>\n",
       "      <td>0.008068</td>\n",
       "      <td>-0.031045</td>\n",
       "    </tr>\n",
       "    <tr>\n",
       "      <th>0</th>\n",
       "      <td>training on 2013-2021 EPL data</td>\n",
       "      <td>1505</td>\n",
       "      <td>8</td>\n",
       "      <td>0.710746</td>\n",
       "      <td>0.213505</td>\n",
       "      <td>0.008447</td>\n",
       "      <td>-0.032135</td>\n",
       "    </tr>\n",
       "    <tr>\n",
       "      <th>0</th>\n",
       "      <td>training on 2017-2021 EPL data</td>\n",
       "      <td>945</td>\n",
       "      <td>5</td>\n",
       "      <td>0.708824</td>\n",
       "      <td>0.214416</td>\n",
       "      <td>0.009357</td>\n",
       "      <td>-0.034056</td>\n",
       "    </tr>\n",
       "    <tr>\n",
       "      <th>0</th>\n",
       "      <td>training on 2017-2021 all leagues data</td>\n",
       "      <td>4442</td>\n",
       "      <td>5</td>\n",
       "      <td>0.709083</td>\n",
       "      <td>0.214785</td>\n",
       "      <td>0.009727</td>\n",
       "      <td>-0.033798</td>\n",
       "    </tr>\n",
       "  </tbody>\n",
       "</table>\n",
       "</div>"
      ],
      "text/plain": [
       "                     tags.run_description params.n_train  \\\n",
       "0          training on 2010-2021 EPL data           2067   \n",
       "0  training on 2010-2021 all leagues data           9840   \n",
       "0  training on 2010-2021 EPL removed data           7773   \n",
       "0  training on 2013-2021 all leagues data           7127   \n",
       "0          training on 2013-2021 EPL data           1505   \n",
       "0          training on 2017-2021 EPL data            945   \n",
       "0  training on 2017-2021 all leagues data           4442   \n",
       "\n",
       "  params.num_train_seasons  metrics.val_auc  metrics.val_mse  \\\n",
       "0                       11         0.717342         0.211627   \n",
       "0                       11         0.711578         0.212731   \n",
       "0                       11         0.712581         0.212735   \n",
       "0                        8         0.711836         0.213126   \n",
       "0                        8         0.710746         0.213505   \n",
       "0                        5         0.708824         0.214416   \n",
       "0                        5         0.709083         0.214785   \n",
       "\n",
       "   metrics.val_mse_diff  metrics.val_auc_diff  \n",
       "0              0.006569             -0.025538  \n",
       "0              0.007673             -0.031303  \n",
       "0              0.007676             -0.030299  \n",
       "0              0.008068             -0.031045  \n",
       "0              0.008447             -0.032135  \n",
       "0              0.009357             -0.034056  \n",
       "0              0.009727             -0.033798  "
      ]
     },
     "execution_count": 32,
     "metadata": {},
     "output_type": "execute_result"
    }
   ],
   "source": [
    "run_data_all.drop(\n",
    "    columns=[\"metrics.train_auc\", \"metrics.train_mse\"]\n",
    ").sort_values(\"metrics.val_mse\", ascending=True)"
   ]
  },
  {
   "cell_type": "markdown",
   "metadata": {},
   "source": [
    "A few important points:\n",
    "\n",
    "1. We are dealing with very small discrepancies in the evaluation metrics that, at face value, seem negligible. However, when we examine the `val_mse_diff` and `val_auc_diff` columns—which represent the disparity in MSE and AUC between our model and the bookies' odds—we see that these differences are not as insignificant as they first appear. For example, while a $0.001$ difference in MSE might seem inconsequential, if the total difference between our model’s MSE and that of the bookies' odds is only $0.02$, then suddenly that $0.001$ decrease becomes more meaningful and something we should strive to avoid. It is important therefore that we use the `_diff` columns for context when disucssing changes in metrics between runs.\n",
    "\n",
    "2. Due to the model's feature selection, we are only utilising half of the available data points per season (i.e., games in the second half of the season). This means that any conclusions we attribute to insufficient data may not hold to the same extent (if at all) if we adopt an approach that allows us to use most or all of each season’s games.\n",
    "\n",
    "3. Similarly, we cannot rule out that a different approach could lead to entirely different conclusions for other reasons. For example, if we were to find different features that (for whatever reason) carry more predictive signal in later seasons, a model that heavily relies on such features would likely benefit from a more recent training set. However, the goal of this notebook is to develop a rough understanding of how substituting earlier EPL seasons for more recent foreign seasons might affect model performance. This is a trade-off we may have to consider if we want a more comprehensive feature set."
   ]
  }
 ],
 "metadata": {
  "kernelspec": {
   "display_name": "bayes-ball-HWltEeJb-py3.10",
   "language": "python",
   "name": "python3"
  },
  "language_info": {
   "codemirror_mode": {
    "name": "ipython",
    "version": 3
   },
   "file_extension": ".py",
   "mimetype": "text/x-python",
   "name": "python",
   "nbconvert_exporter": "python",
   "pygments_lexer": "ipython3",
   "version": "3.10.12"
  }
 },
 "nbformat": 4,
 "nbformat_minor": 2
}
